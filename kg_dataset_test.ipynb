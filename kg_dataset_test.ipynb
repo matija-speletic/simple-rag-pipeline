{
 "cells": [
  {
   "cell_type": "code",
   "execution_count": 1,
   "metadata": {
    "collapsed": true,
    "ExecuteTime": {
     "end_time": "2024-05-12T18:30:41.533432900Z",
     "start_time": "2024-05-12T18:30:40.496415400Z"
    }
   },
   "outputs": [],
   "source": [
    "import pandas as pd"
   ]
  },
  {
   "cell_type": "code",
   "execution_count": 2,
   "outputs": [],
   "source": [
    "df = pd.read_csv('data/KG-RAG-datasets/sec-10-q/data/v1/qna_data.csv')"
   ],
   "metadata": {
    "collapsed": false,
    "ExecuteTime": {
     "end_time": "2024-05-12T18:30:43.580602800Z",
     "start_time": "2024-05-12T18:30:43.550104300Z"
    }
   }
  },
  {
   "cell_type": "code",
   "execution_count": 3,
   "outputs": [
    {
     "data": {
      "text/plain": "                                            Question Source Docs  \\\n0  How has Apple's total net sales changed over t...      *AAPL*   \n1  What are the major factors contributing to the...      *AAPL*   \n2  Has there been any significant change in Apple...      *AAPL*   \n3  How has Apple's revenue from iPhone sales fluc...      *AAPL*   \n4  Can any trends be identified in Apple's Servic...      *AAPL*   \n\n   Question Type Source Chunk Type  \\\n0  Multi-Doc RAG             Table   \n1  Multi-Doc RAG              Text   \n2  Multi-Doc RAG             Table   \n3  Multi-Doc RAG             Table   \n4  Multi-Doc RAG             Table   \n\n                                              Answer  \n0  Based on the provided documents, Apple's total...  \n1  In the most recent 10-Q for the quarter ended ...  \n2  Yes, there has been a change in Apple's operat...  \n3  The revenue from iPhone sales for Apple has fl...  \n4  Based on the provided documents, there is a tr...  ",
      "text/html": "<div>\n<style scoped>\n    .dataframe tbody tr th:only-of-type {\n        vertical-align: middle;\n    }\n\n    .dataframe tbody tr th {\n        vertical-align: top;\n    }\n\n    .dataframe thead th {\n        text-align: right;\n    }\n</style>\n<table border=\"1\" class=\"dataframe\">\n  <thead>\n    <tr style=\"text-align: right;\">\n      <th></th>\n      <th>Question</th>\n      <th>Source Docs</th>\n      <th>Question Type</th>\n      <th>Source Chunk Type</th>\n      <th>Answer</th>\n    </tr>\n  </thead>\n  <tbody>\n    <tr>\n      <th>0</th>\n      <td>How has Apple's total net sales changed over t...</td>\n      <td>*AAPL*</td>\n      <td>Multi-Doc RAG</td>\n      <td>Table</td>\n      <td>Based on the provided documents, Apple's total...</td>\n    </tr>\n    <tr>\n      <th>1</th>\n      <td>What are the major factors contributing to the...</td>\n      <td>*AAPL*</td>\n      <td>Multi-Doc RAG</td>\n      <td>Text</td>\n      <td>In the most recent 10-Q for the quarter ended ...</td>\n    </tr>\n    <tr>\n      <th>2</th>\n      <td>Has there been any significant change in Apple...</td>\n      <td>*AAPL*</td>\n      <td>Multi-Doc RAG</td>\n      <td>Table</td>\n      <td>Yes, there has been a change in Apple's operat...</td>\n    </tr>\n    <tr>\n      <th>3</th>\n      <td>How has Apple's revenue from iPhone sales fluc...</td>\n      <td>*AAPL*</td>\n      <td>Multi-Doc RAG</td>\n      <td>Table</td>\n      <td>The revenue from iPhone sales for Apple has fl...</td>\n    </tr>\n    <tr>\n      <th>4</th>\n      <td>Can any trends be identified in Apple's Servic...</td>\n      <td>*AAPL*</td>\n      <td>Multi-Doc RAG</td>\n      <td>Table</td>\n      <td>Based on the provided documents, there is a tr...</td>\n    </tr>\n  </tbody>\n</table>\n</div>"
     },
     "execution_count": 3,
     "metadata": {},
     "output_type": "execute_result"
    }
   ],
   "source": [
    "df.head()"
   ],
   "metadata": {
    "collapsed": false,
    "ExecuteTime": {
     "end_time": "2024-05-12T18:30:49.017115700Z",
     "start_time": "2024-05-12T18:30:48.930414100Z"
    }
   }
  },
  {
   "cell_type": "code",
   "execution_count": 4,
   "outputs": [],
   "source": [
    "# filter where source docscontains AAPL\n",
    "df = df[df['Source Docs'].str.contains('AAPL')]"
   ],
   "metadata": {
    "collapsed": false,
    "ExecuteTime": {
     "end_time": "2024-05-12T18:31:58.362245600Z",
     "start_time": "2024-05-12T18:31:58.357250900Z"
    }
   }
  },
  {
   "cell_type": "code",
   "execution_count": 5,
   "outputs": [],
   "source": [
    "df = df[df['Source Chunk Type'] == 'Text']"
   ],
   "metadata": {
    "collapsed": false,
    "ExecuteTime": {
     "end_time": "2024-05-12T18:32:40.904068300Z",
     "start_time": "2024-05-12T18:32:40.854273800Z"
    }
   }
  },
  {
   "cell_type": "code",
   "execution_count": 6,
   "outputs": [
    {
     "data": {
      "text/plain": "                                             Question Source Docs  \\\n1   What are the major factors contributing to the...      *AAPL*   \n8   What legal proceedings or contingencies are di...      *AAPL*   \n37  Does Apple report any significant new business...      *AAPL*   \n39  Are there any significant changes or new discl...      *AAPL*   \n40  Summarize the risk factors to Apple's business...      *AAPL*   \n\n    Question Type Source Chunk Type  \\\n1   Multi-Doc RAG              Text   \n8   Multi-Doc RAG              Text   \n37  Multi-Doc RAG              Text   \n39  Multi-Doc RAG              Text   \n40  Multi-Doc RAG              Text   \n\n                                               Answer  \n1   In the most recent 10-Q for the quarter ended ...  \n8   The legal proceedings disclosed in the provide...  \n37  No, Apple does not report any significant new ...  \n39  No, there are no significant changes or new di...  \n40  The risk factors to Apple's business have not ...  ",
      "text/html": "<div>\n<style scoped>\n    .dataframe tbody tr th:only-of-type {\n        vertical-align: middle;\n    }\n\n    .dataframe tbody tr th {\n        vertical-align: top;\n    }\n\n    .dataframe thead th {\n        text-align: right;\n    }\n</style>\n<table border=\"1\" class=\"dataframe\">\n  <thead>\n    <tr style=\"text-align: right;\">\n      <th></th>\n      <th>Question</th>\n      <th>Source Docs</th>\n      <th>Question Type</th>\n      <th>Source Chunk Type</th>\n      <th>Answer</th>\n    </tr>\n  </thead>\n  <tbody>\n    <tr>\n      <th>1</th>\n      <td>What are the major factors contributing to the...</td>\n      <td>*AAPL*</td>\n      <td>Multi-Doc RAG</td>\n      <td>Text</td>\n      <td>In the most recent 10-Q for the quarter ended ...</td>\n    </tr>\n    <tr>\n      <th>8</th>\n      <td>What legal proceedings or contingencies are di...</td>\n      <td>*AAPL*</td>\n      <td>Multi-Doc RAG</td>\n      <td>Text</td>\n      <td>The legal proceedings disclosed in the provide...</td>\n    </tr>\n    <tr>\n      <th>37</th>\n      <td>Does Apple report any significant new business...</td>\n      <td>*AAPL*</td>\n      <td>Multi-Doc RAG</td>\n      <td>Text</td>\n      <td>No, Apple does not report any significant new ...</td>\n    </tr>\n    <tr>\n      <th>39</th>\n      <td>Are there any significant changes or new discl...</td>\n      <td>*AAPL*</td>\n      <td>Multi-Doc RAG</td>\n      <td>Text</td>\n      <td>No, there are no significant changes or new di...</td>\n    </tr>\n    <tr>\n      <th>40</th>\n      <td>Summarize the risk factors to Apple's business...</td>\n      <td>*AAPL*</td>\n      <td>Multi-Doc RAG</td>\n      <td>Text</td>\n      <td>The risk factors to Apple's business have not ...</td>\n    </tr>\n  </tbody>\n</table>\n</div>"
     },
     "execution_count": 6,
     "metadata": {},
     "output_type": "execute_result"
    }
   ],
   "source": [
    "df.head()"
   ],
   "metadata": {
    "collapsed": false,
    "ExecuteTime": {
     "end_time": "2024-05-12T18:32:48.869450500Z",
     "start_time": "2024-05-12T18:32:48.863978500Z"
    }
   }
  },
  {
   "cell_type": "code",
   "execution_count": 9,
   "outputs": [
    {
     "data": {
      "text/plain": "16"
     },
     "execution_count": 9,
     "metadata": {},
     "output_type": "execute_result"
    }
   ],
   "source": [
    "len(df)"
   ],
   "metadata": {
    "collapsed": false,
    "ExecuteTime": {
     "end_time": "2024-05-12T19:08:56.053446Z",
     "start_time": "2024-05-12T19:08:56.038655300Z"
    }
   }
  },
  {
   "cell_type": "code",
   "execution_count": 10,
   "outputs": [],
   "source": [
    "# drop column\n",
    "df = df.drop(columns=['Source Chunk Type', 'Question Type', \"Source Docs\"])"
   ],
   "metadata": {
    "collapsed": false,
    "ExecuteTime": {
     "end_time": "2024-05-12T19:08:59.159905500Z",
     "start_time": "2024-05-12T19:08:59.146408400Z"
    }
   }
  },
  {
   "cell_type": "code",
   "execution_count": 11,
   "outputs": [],
   "source": [
    "# rename columns\n",
    "df = df.rename(columns={'Question': 'question', 'Answer': 'answer'})"
   ],
   "metadata": {
    "collapsed": false,
    "ExecuteTime": {
     "end_time": "2024-05-12T19:09:00.583364700Z",
     "start_time": "2024-05-12T19:09:00.553597900Z"
    }
   }
  },
  {
   "cell_type": "code",
   "execution_count": 12,
   "outputs": [],
   "source": [
    "df.to_csv('data/KG-RAG-datasets/sec-10-q/data/v1/qna_data_aapl.csv', index=False)"
   ],
   "metadata": {
    "collapsed": false,
    "ExecuteTime": {
     "end_time": "2024-05-12T19:09:01.392879800Z",
     "start_time": "2024-05-12T19:09:01.357752Z"
    }
   }
  },
  {
   "cell_type": "code",
   "execution_count": 13,
   "outputs": [],
   "source": [
    "d={'question': df['question'].tolist(), 'answer': df['answer'].tolist()}\n"
   ],
   "metadata": {
    "collapsed": false,
    "ExecuteTime": {
     "end_time": "2024-05-12T19:14:53.627387900Z",
     "start_time": "2024-05-12T19:14:53.617381800Z"
    }
   }
  },
  {
   "cell_type": "code",
   "execution_count": 15,
   "outputs": [],
   "source": [
    "import json\n",
    "with open('data/KG-RAG-datasets/sec-10-q/data/v1/qna_data_aapl.json', 'w') as f:\n",
    "    json.dump(d, f, indent=4)"
   ],
   "metadata": {
    "collapsed": false,
    "ExecuteTime": {
     "end_time": "2024-05-12T19:16:24.129499300Z",
     "start_time": "2024-05-12T19:16:24.116437300Z"
    }
   }
  },
  {
   "cell_type": "code",
   "execution_count": null,
   "outputs": [],
   "source": [],
   "metadata": {
    "collapsed": false
   }
  }
 ],
 "metadata": {
  "kernelspec": {
   "display_name": "Python 3",
   "language": "python",
   "name": "python3"
  },
  "language_info": {
   "codemirror_mode": {
    "name": "ipython",
    "version": 2
   },
   "file_extension": ".py",
   "mimetype": "text/x-python",
   "name": "python",
   "nbconvert_exporter": "python",
   "pygments_lexer": "ipython2",
   "version": "2.7.6"
  }
 },
 "nbformat": 4,
 "nbformat_minor": 0
}
